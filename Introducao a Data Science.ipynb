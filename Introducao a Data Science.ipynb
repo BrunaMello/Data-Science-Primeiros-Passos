{
 "cells": [
  {
   "cell_type": "code",
   "execution_count": 37,
   "outputs": [
    {
     "data": {
      "text/plain": "(100836, 4)"
     },
     "execution_count": 37,
     "metadata": {},
     "output_type": "execute_result"
    }
   ],
   "source": [
    "import pandas as pd\n",
    "\n",
    "notas = pd.read_csv(\"ratings.csv\")\n",
    "notas.head()\n",
    "notas.shape"
   ],
   "metadata": {
    "collapsed": false,
    "pycharm": {
     "name": "#%% importacao pandas e lendo o arquivo csv\n"
    }
   }
  },
  {
   "cell_type": "code",
   "source": [
    "notas.columns = [\"usuarioId\", \"filmeId\", \"nota\", \"momento\"]\n",
    "notas.head()"
   ],
   "metadata": {
    "collapsed": false,
    "pycharm": {
     "name": "#%% mudando o nome das colunas\n"
    }
   },
   "execution_count": 38,
   "outputs": [
    {
     "data": {
      "text/plain": "   usuarioId  filmeId  nota    momento\n0          1        1   4.0  964982703\n1          1        3   4.0  964981247\n2          1        6   4.0  964982224\n3          1       47   5.0  964983815\n4          1       50   5.0  964982931",
      "text/html": "<div>\n<style scoped>\n    .dataframe tbody tr th:only-of-type {\n        vertical-align: middle;\n    }\n\n    .dataframe tbody tr th {\n        vertical-align: top;\n    }\n\n    .dataframe thead th {\n        text-align: right;\n    }\n</style>\n<table border=\"1\" class=\"dataframe\">\n  <thead>\n    <tr style=\"text-align: right;\">\n      <th></th>\n      <th>usuarioId</th>\n      <th>filmeId</th>\n      <th>nota</th>\n      <th>momento</th>\n    </tr>\n  </thead>\n  <tbody>\n    <tr>\n      <th>0</th>\n      <td>1</td>\n      <td>1</td>\n      <td>4.0</td>\n      <td>964982703</td>\n    </tr>\n    <tr>\n      <th>1</th>\n      <td>1</td>\n      <td>3</td>\n      <td>4.0</td>\n      <td>964981247</td>\n    </tr>\n    <tr>\n      <th>2</th>\n      <td>1</td>\n      <td>6</td>\n      <td>4.0</td>\n      <td>964982224</td>\n    </tr>\n    <tr>\n      <th>3</th>\n      <td>1</td>\n      <td>47</td>\n      <td>5.0</td>\n      <td>964983815</td>\n    </tr>\n    <tr>\n      <th>4</th>\n      <td>1</td>\n      <td>50</td>\n      <td>5.0</td>\n      <td>964982931</td>\n    </tr>\n  </tbody>\n</table>\n</div>"
     },
     "execution_count": 38,
     "metadata": {},
     "output_type": "execute_result"
    }
   ]
  },
  {
   "cell_type": "code",
   "execution_count": 39,
   "outputs": [
    {
     "data": {
      "text/plain": "array([4. , 5. , 3. , 2. , 1. , 4.5, 3.5, 2.5, 0.5, 1.5])"
     },
     "execution_count": 39,
     "metadata": {},
     "output_type": "execute_result"
    }
   ],
   "source": [
    "notas['nota'].unique()"
   ],
   "metadata": {
    "collapsed": false,
    "pycharm": {
     "name": "#%% verificando se so existe notas de 4 a 5\n"
    }
   }
  },
  {
   "cell_type": "code",
   "execution_count": 40,
   "outputs": [
    {
     "data": {
      "text/plain": "4.0    26818\n3.0    20047\n5.0    13211\n3.5    13136\n4.5     8551\n2.0     7551\n2.5     5550\n1.0     2811\n1.5     1791\n0.5     1370\nName: nota, dtype: int64"
     },
     "execution_count": 40,
     "metadata": {},
     "output_type": "execute_result"
    }
   ],
   "source": [
    "notas['nota'].value_counts()"
   ],
   "metadata": {
    "collapsed": false,
    "pycharm": {
     "name": "#%% verificar quantas vezes uma nota especifica foi dada \n"
    }
   }
  },
  {
   "cell_type": "code",
   "execution_count": 41,
   "outputs": [
    {
     "name": "stdout",
     "output_type": "stream",
     "text": [
      "Média:  3.501556983616962\n"
     ]
    }
   ],
   "source": [
    "print('Média: ', notas['nota'].mean())"
   ],
   "metadata": {
    "collapsed": false,
    "pycharm": {
     "name": "#%% verificar a media\n"
    }
   }
  },
  {
   "cell_type": "code",
   "execution_count": 42,
   "outputs": [
    {
     "data": {
      "text/plain": "<AxesSubplot:ylabel='Frequency'>"
     },
     "execution_count": 42,
     "metadata": {},
     "output_type": "execute_result"
    },
    {
     "data": {
      "text/plain": "<Figure size 432x288 with 1 Axes>",
      "image/png": "[encoded data removed]"
     },
     "metadata": {
      "needs_background": "light"
     },
     "output_type": "display_data"
    }
   ],
   "source": [
    "notas.nota.head() #somente as 5 primeiras\n",
    "notas.nota.plot(kind='hist')\n"
   ],
   "metadata": {
    "collapsed": false,
    "pycharm": {
     "name": "#%% maneira visual\n"
    }
   }
  },
  {
   "cell_type": "code",
   "execution_count": 43,
   "outputs": [
    {
     "name": "stdout",
     "output_type": "stream",
     "text": [
      "Mediana:  3.5\n"
     ]
    }
   ],
   "source": [
    "print('Mediana: ', notas['nota'].median())"
   ],
   "metadata": {
    "collapsed": false,
    "pycharm": {
     "name": "#%% verificar mediana\n"
    }
   }
  },
  {
   "cell_type": "code",
   "execution_count": 44,
   "outputs": [
    {
     "data": {
      "text/plain": "count    100836.000000\nmean          3.501557\nstd           1.042529\nmin           0.500000\n25%           3.000000\n50%           3.500000\n75%           4.000000\nmax           5.000000\nName: nota, dtype: float64"
     },
     "execution_count": 44,
     "metadata": {},
     "output_type": "execute_result"
    }
   ],
   "source": [
    "notas.nota.describe()"
   ],
   "metadata": {
    "collapsed": false,
    "pycharm": {
     "name": "#%% tirando todas as medidas de uma vez\n"
    }
   }
  },
  {
   "cell_type": "code",
   "execution_count": 45,
   "outputs": [
    {
     "data": {
      "text/plain": "<AxesSubplot:xlabel='nota'>"
     },
     "execution_count": 45,
     "metadata": {},
     "output_type": "execute_result"
    },
    {
     "data": {
      "text/plain": "<Figure size 432x288 with 1 Axes>",
      "image/png": "[encoded data removed]"
     },
     "metadata": {
      "needs_background": "light"
     },
     "output_type": "display_data"
    }
   ],
   "source": [
    "import seaborn as sns\n",
    "\n",
    "sns.boxplot(notas.nota)"
   ],
   "metadata": {
    "collapsed": false,
    "pycharm": {
     "name": "#%%  tirando todas as medidas utilizando a seaborn\n"
    }
   }
  },
  {
   "cell_type": "code",
   "execution_count": 46,
   "outputs": [
    {
     "data": {
      "text/plain": "   movieId                               title  \\\n0        1                    Toy Story (1995)   \n1        2                      Jumanji (1995)   \n2        3             Grumpier Old Men (1995)   \n3        4            Waiting to Exhale (1995)   \n4        5  Father of the Bride Part II (1995)   \n\n                                        genres  \n0  Adventure|Animation|Children|Comedy|Fantasy  \n1                   Adventure|Children|Fantasy  \n2                               Comedy|Romance  \n3                         Comedy|Drama|Romance  \n4                                       Comedy  ",
      "text/html": "<div>\n<style scoped>\n    .dataframe tbody tr th:only-of-type {\n        vertical-align: middle;\n    }\n\n    .dataframe tbody tr th {\n        vertical-align: top;\n    }\n\n    .dataframe thead th {\n        text-align: right;\n    }\n</style>\n<table border=\"1\" class=\"dataframe\">\n  <thead>\n    <tr style=\"text-align: right;\">\n      <th></th>\n      <th>movieId</th>\n      <th>title</th>\n      <th>genres</th>\n    </tr>\n  </thead>\n  <tbody>\n    <tr>\n      <th>0</th>\n      <td>1</td>\n      <td>Toy Story (1995)</td>\n      <td>Adventure|Animation|Children|Comedy|Fantasy</td>\n    </tr>\n    <tr>\n      <th>1</th>\n      <td>2</td>\n      <td>Jumanji (1995)</td>\n      <td>Adventure|Children|Fantasy</td>\n    </tr>\n    <tr>\n      <th>2</th>\n      <td>3</td>\n      <td>Grumpier Old Men (1995)</td>\n      <td>Comedy|Romance</td>\n    </tr>\n    <tr>\n      <th>3</th>\n      <td>4</td>\n      <td>Waiting to Exhale (1995)</td>\n      <td>Comedy|Drama|Romance</td>\n    </tr>\n    <tr>\n      <th>4</th>\n      <td>5</td>\n      <td>Father of the Bride Part II (1995)</td>\n      <td>Comedy</td>\n    </tr>\n  </tbody>\n</table>\n</div>"
     },
     "execution_count": 46,
     "metadata": {},
     "output_type": "execute_result"
    }
   ],
   "source": [
    "import pandas as pd\n",
    "\n",
    "filmes = pd.read_csv('movies.csv')\n",
    "filmes.head()"
   ],
   "metadata": {
    "collapsed": false,
    "pycharm": {
     "name": "#%% carregar os filmes\n"
    }
   }
  },
  {
   "cell_type": "code",
   "execution_count": 47,
   "outputs": [
    {
     "data": {
      "text/plain": "       usuarioId  filmeId  nota     momento\n0              1        1   4.0   964982703\n516            5        1   4.0   847434962\n874            7        1   4.5  1106635946\n1434          15        1   2.5  1510577970\n1667          17        1   4.5  1305696483\n...          ...      ...   ...         ...\n97364        606        1   2.5  1349082950\n98479        607        1   4.0   964744033\n98666        608        1   2.5  1117408267\n99497        609        1   3.0   847221025\n99534        610        1   5.0  1479542900\n\n[215 rows x 4 columns]",
      "text/html": "<div>\n<style scoped>\n    .dataframe tbody tr th:only-of-type {\n        vertical-align: middle;\n    }\n\n    .dataframe tbody tr th {\n        vertical-align: top;\n    }\n\n    .dataframe thead th {\n        text-align: right;\n    }\n</style>\n<table border=\"1\" class=\"dataframe\">\n  <thead>\n    <tr style=\"text-align: right;\">\n      <th></th>\n      <th>usuarioId</th>\n      <th>filmeId</th>\n      <th>nota</th>\n      <th>momento</th>\n    </tr>\n  </thead>\n  <tbody>\n    <tr>\n      <th>0</th>\n      <td>1</td>\n      <td>1</td>\n      <td>4.0</td>\n      <td>964982703</td>\n    </tr>\n    <tr>\n      <th>516</th>\n      <td>5</td>\n      <td>1</td>\n      <td>4.0</td>\n      <td>847434962</td>\n    </tr>\n    <tr>\n      <th>874</th>\n      <td>7</td>\n      <td>1</td>\n      <td>4.5</td>\n      <td>1106635946</td>\n    </tr>\n    <tr>\n      <th>1434</th>\n      <td>15</td>\n      <td>1</td>\n      <td>2.5</td>\n      <td>1510577970</td>\n    </tr>\n    <tr>\n      <th>1667</th>\n      <td>17</td>\n      <td>1</td>\n      <td>4.5</td>\n      <td>1305696483</td>\n    </tr>\n    <tr>\n      <th>...</th>\n      <td>...</td>\n      <td>...</td>\n      <td>...</td>\n      <td>...</td>\n    </tr>\n    <tr>\n      <th>97364</th>\n      <td>606</td>\n      <td>1</td>\n      <td>2.5</td>\n      <td>1349082950</td>\n    </tr>\n    <tr>\n      <th>98479</th>\n      <td>607</td>\n      <td>1</td>\n      <td>4.0</td>\n      <td>964744033</td>\n    </tr>\n    <tr>\n      <th>98666</th>\n      <td>608</td>\n      <td>1</td>\n      <td>2.5</td>\n      <td>1117408267</td>\n    </tr>\n    <tr>\n      <th>99497</th>\n      <td>609</td>\n      <td>1</td>\n      <td>3.0</td>\n      <td>847221025</td>\n    </tr>\n    <tr>\n      <th>99534</th>\n      <td>610</td>\n      <td>1</td>\n      <td>5.0</td>\n      <td>1479542900</td>\n    </tr>\n  </tbody>\n</table>\n<p>215 rows × 4 columns</p>\n</div>"
     },
     "execution_count": 47,
     "metadata": {},
     "output_type": "execute_result"
    }
   ],
   "source": [
    "notas.query('filmeId == 1')"
   ],
   "metadata": {
    "collapsed": false,
    "pycharm": {
     "name": "#%% verificando as notas de um filme\n"
    }
   }
  },
  {
   "cell_type": "code",
   "execution_count": 48,
   "outputs": [
    {
     "data": {
      "text/plain": "3.9209302325581397"
     },
     "execution_count": 48,
     "metadata": {},
     "output_type": "execute_result"
    }
   ],
   "source": [
    "notas.query('filmeId == 1').nota.mean()"
   ],
   "metadata": {
    "collapsed": false,
    "pycharm": {
     "name": "#%% tirando a media dos filmes\n"
    }
   }
  },
  {
   "cell_type": "code",
   "execution_count": 49,
   "outputs": [],
   "source": [
    "media_por_filme = notas.groupby('filmeId').mean().nota"
   ],
   "metadata": {
    "collapsed": false,
    "pycharm": {
     "name": "#%% agrupar pelo filme id e tirar a media\n"
    }
   }
  },
  {
   "cell_type": "code",
   "execution_count": 50,
   "outputs": [
    {
     "data": {
      "text/plain": "<AxesSubplot:ylabel='Frequency'>"
     },
     "execution_count": 50,
     "metadata": {},
     "output_type": "execute_result"
    },
    {
     "data": {
      "text/plain": "<Figure size 432x288 with 1 Axes>",
      "image/png": "[encoded data removed]"
     },
     "metadata": {
      "needs_background": "light"
     },
     "output_type": "display_data"
    }
   ],
   "source": [
    "media_por_filme.plot(kind='hist')"
   ],
   "metadata": {
    "collapsed": false,
    "pycharm": {
     "name": "#%% plotar a media dos filmes\n"
    }
   }
  },
  {
   "cell_type": "code",
   "execution_count": 51,
   "outputs": [
    {
     "data": {
      "text/plain": "<AxesSubplot:xlabel='nota'>"
     },
     "execution_count": 51,
     "metadata": {},
     "output_type": "execute_result"
    },
    {
     "data": {
      "text/plain": "<Figure size 432x288 with 1 Axes>",
      "image/png": "[encoded data removed]"
     },
     "metadata": {
      "needs_background": "light"
     },
     "output_type": "display_data"
    }
   ],
   "source": [
    "sns.boxplot(media_por_filme)"
   ],
   "metadata": {
    "collapsed": false,
    "pycharm": {
     "name": "#%% media por filme pelo seaborn\n"
    }
   }
  },
  {
   "cell_type": "code",
   "execution_count": 52,
   "outputs": [
    {
     "data": {
      "text/plain": "count    9724.000000\nmean        3.262448\nstd         0.869874\nmin         0.500000\n25%         2.800000\n50%         3.416667\n75%         3.911765\nmax         5.000000\nName: nota, dtype: float64"
     },
     "execution_count": 52,
     "metadata": {},
     "output_type": "execute_result"
    }
   ],
   "source": [
    "media_por_filme.describe()"
   ],
   "metadata": {
    "collapsed": false,
    "pycharm": {
     "name": "#%% descrevendo as medias por filme\n"
    }
   }
  },
  {
   "cell_type": "code",
   "execution_count": 53,
   "outputs": [
    {
     "data": {
      "text/plain": "<AxesSubplot:xlabel='nota'>"
     },
     "execution_count": 53,
     "metadata": {},
     "output_type": "execute_result"
    },
    {
     "data": {
      "text/plain": "<Figure size 432x288 with 1 Axes>",
      "image/png": "[encoded data removed]"
     },
     "metadata": {
      "needs_background": "light"
     },
     "output_type": "display_data"
    }
   ],
   "source": [
    "sns.distplot(media_por_filme, bins=10)"
   ],
   "metadata": {
    "collapsed": false,
    "pycharm": {
     "name": "#%% histograma no seaborn bins numero de barras\n"
    }
   }
  },
  {
   "cell_type": "code",
   "execution_count": 54,
   "outputs": [
    {
     "data": {
      "text/plain": "Text(0.5, 1.0, 'Histograma das medias dos filmes')"
     },
     "execution_count": 54,
     "metadata": {},
     "output_type": "execute_result"
    },
    {
     "data": {
      "text/plain": "<Figure size 432x288 with 1 Axes>",
      "image/png": "[encoded data removed]"
     },
     "metadata": {
      "needs_background": "light"
     },
     "output_type": "display_data"
    }
   ],
   "source": [
    "import matplotlib.pyplot as plt\n",
    "plt.hist(media_por_filme)\n",
    "plt.title('Histograma das medias dos filmes')"
   ],
   "metadata": {
    "collapsed": false,
    "pycharm": {
     "name": "#%% sem usar nenhuma biblioteca\n"
    }
   }
  },
  {
   "cell_type": "code",
   "execution_count": 55,
   "outputs": [
    {
     "data": {
      "text/plain": "      budget                                             genres  \\\n0  237000000  [{\"id\": 28, \"name\": \"Action\"}, {\"id\": 12, \"nam...   \n1  300000000  [{\"id\": 12, \"name\": \"Adventure\"}, {\"id\": 14, \"...   \n2  245000000  [{\"id\": 28, \"name\": \"Action\"}, {\"id\": 12, \"nam...   \n3  250000000  [{\"id\": 28, \"name\": \"Action\"}, {\"id\": 80, \"nam...   \n4  260000000  [{\"id\": 28, \"name\": \"Action\"}, {\"id\": 12, \"nam...   \n\n                                       homepage      id  \\\n0                   http://www.avatarmovie.com/   19995   \n1  http://disney.go.com/disneypictures/pirates/     285   \n2   http://www.sonypictures.com/movies/spectre/  206647   \n3            http://www.thedarkknightrises.com/   49026   \n4          http://movies.disney.com/john-carter   49529   \n\n                                            keywords original_language  \\\n0  [{\"id\": 1463, \"name\": \"culture clash\"}, {\"id\":...                en   \n1  [{\"id\": 270, \"name\": \"ocean\"}, {\"id\": 726, \"na...                en   \n2  [{\"id\": 470, \"name\": \"spy\"}, {\"id\": 818, \"name...                en   \n3  [{\"id\": 849, \"name\": \"dc comics\"}, {\"id\": 853,...                en   \n4  [{\"id\": 818, \"name\": \"based on novel\"}, {\"id\":...                en   \n\n                             original_title  \\\n0                                    Avatar   \n1  Pirates of the Caribbean: At World's End   \n2                                   Spectre   \n3                     The Dark Knight Rises   \n4                               John Carter   \n\n                                            overview  popularity  \\\n0  In the 22nd century, a paraplegic Marine is di...  150.437577   \n1  Captain Barbossa, long believed to be dead, ha...  139.082615   \n2  A cryptic message from Bond’s past sends him o...  107.376788   \n3  Following the death of District Attorney Harve...  112.312950   \n4  John Carter is a war-weary, former military ca...   43.926995   \n\n                                production_companies  \\\n0  [{\"name\": \"Ingenious Film Partners\", \"id\": 289...   \n1  [{\"name\": \"Walt Disney Pictures\", \"id\": 2}, {\"...   \n2  [{\"name\": \"Columbia Pictures\", \"id\": 5}, {\"nam...   \n3  [{\"name\": \"Legendary Pictures\", \"id\": 923}, {\"...   \n4        [{\"name\": \"Walt Disney Pictures\", \"id\": 2}]   \n\n                                production_countries release_date     revenue  \\\n0  [{\"iso_3166_1\": \"US\", \"name\": \"United States o...   2009-12-10  2787965087   \n1  [{\"iso_3166_1\": \"US\", \"name\": \"United States o...   2007-05-19   961000000   \n2  [{\"iso_3166_1\": \"GB\", \"name\": \"United Kingdom\"...   2015-10-26   880674609   \n3  [{\"iso_3166_1\": \"US\", \"name\": \"United States o...   2012-07-16  1084939099   \n4  [{\"iso_3166_1\": \"US\", \"name\": \"United States o...   2012-03-07   284139100   \n\n   runtime                                   spoken_languages    status  \\\n0    162.0  [{\"iso_639_1\": \"en\", \"name\": \"English\"}, {\"iso...  Released   \n1    169.0           [{\"iso_639_1\": \"en\", \"name\": \"English\"}]  Released   \n2    148.0  [{\"iso_639_1\": \"fr\", \"name\": \"Fran\\u00e7ais\"},...  Released   \n3    165.0           [{\"iso_639_1\": \"en\", \"name\": \"English\"}]  Released   \n4    132.0           [{\"iso_639_1\": \"en\", \"name\": \"English\"}]  Released   \n\n                                          tagline  \\\n0                     Enter the World of Pandora.   \n1  At the end of the world, the adventure begins.   \n2                           A Plan No One Escapes   \n3                                 The Legend Ends   \n4            Lost in our world, found in another.   \n\n                                      title  vote_average  vote_count  \n0                                    Avatar           7.2       11800  \n1  Pirates of the Caribbean: At World's End           6.9        4500  \n2                                   Spectre           6.3        4466  \n3                     The Dark Knight Rises           7.6        9106  \n4                               John Carter           6.1        2124  ",
      "text/html": "<div>\n<style scoped>\n    .dataframe tbody tr th:only-of-type {\n        vertical-align: middle;\n    }\n\n    .dataframe tbody tr th {\n        vertical-align: top;\n    }\n\n    .dataframe thead th {\n        text-align: right;\n    }\n</style>\n<table border=\"1\" class=\"dataframe\">\n  <thead>\n    <tr style=\"text-align: right;\">\n      <th></th>\n      <th>budget</th>\n      <th>genres</th>\n      <th>homepage</th>\n      <th>id</th>\n      <th>keywords</th>\n      <th>original_language</th>\n      <th>original_title</th>\n      <th>overview</th>\n      <th>popularity</th>\n      <th>production_companies</th>\n      <th>production_countries</th>\n      <th>release_date</th>\n      <th>revenue</th>\n      <th>runtime</th>\n      <th>spoken_languages</th>\n      <th>status</th>\n      <th>tagline</th>\n      <th>title</th>\n      <th>vote_average</th>\n      <th>vote_count</th>\n    </tr>\n  </thead>\n  <tbody>\n    <tr>\n      <th>0</th>\n      <td>237000000</td>\n      <td>[{\"id\": 28, \"name\": \"Action\"}, {\"id\": 12, \"nam...</td>\n      <td>http://www.avatarmovie.com/</td>\n      <td>19995</td>\n      <td>[{\"id\": 1463, \"name\": \"culture clash\"}, {\"id\":...</td>\n      <td>en</td>\n      <td>Avatar</td>\n      <td>In the 22nd century, a paraplegic Marine is di...</td>\n      <td>150.437577</td>\n      <td>[{\"name\": \"Ingenious Film Partners\", \"id\": 289...</td>\n      <td>[{\"iso_3166_1\": \"US\", \"name\": \"United States o...</td>\n      <td>2009-12-10</td>\n      <td>2787965087</td>\n      <td>162.0</td>\n      <td>[{\"iso_639_1\": \"en\", \"name\": \"English\"}, {\"iso...</td>\n      <td>Released</td>\n      <td>Enter the World of Pandora.</td>\n      <td>Avatar</td>\n      <td>7.2</td>\n      <td>11800</td>\n    </tr>\n    <tr>\n      <th>1</th>\n      <td>300000000</td>\n      <td>[{\"id\": 12, \"name\": \"Adventure\"}, {\"id\": 14, \"...</td>\n      <td>http://disney.go.com/disneypictures/pirates/</td>\n      <td>285</td>\n      <td>[{\"id\": 270, \"name\": \"ocean\"}, {\"id\": 726, \"na...</td>\n      <td>en</td>\n      <td>Pirates of the Caribbean: At World's End</td>\n      <td>Captain Barbossa, long believed to be dead, ha...</td>\n      <td>139.082615</td>\n      <td>[{\"name\": \"Walt Disney Pictures\", \"id\": 2}, {\"...</td>\n      <td>[{\"iso_3166_1\": \"US\", \"name\": \"United States o...</td>\n      <td>2007-05-19</td>\n      <td>961000000</td>\n      <td>169.0</td>\n      <td>[{\"iso_639_1\": \"en\", \"name\": \"English\"}]</td>\n      <td>Released</td>\n      <td>At the end of the world, the adventure begins.</td>\n      <td>Pirates of the Caribbean: At World's End</td>\n      <td>6.9</td>\n      <td>4500</td>\n    </tr>\n    <tr>\n      <th>2</th>\n      <td>245000000</td>\n      <td>[{\"id\": 28, \"name\": \"Action\"}, {\"id\": 12, \"nam...</td>\n      <td>http://www.sonypictures.com/movies/spectre/</td>\n      <td>206647</td>\n      <td>[{\"id\": 470, \"name\": \"spy\"}, {\"id\": 818, \"name...</td>\n      <td>en</td>\n      <td>Spectre</td>\n      <td>A cryptic message from Bond’s past sends him o...</td>\n      <td>107.376788</td>\n      <td>[{\"name\": \"Columbia Pictures\", \"id\": 5}, {\"nam...</td>\n      <td>[{\"iso_3166_1\": \"GB\", \"name\": \"United Kingdom\"...</td>\n      <td>2015-10-26</td>\n      <td>880674609</td>\n      <td>148.0</td>\n      <td>[{\"iso_639_1\": \"fr\", \"name\": \"Fran\\u00e7ais\"},...</td>\n      <td>Released</td>\n      <td>A Plan No One Escapes</td>\n      <td>Spectre</td>\n      <td>6.3</td>\n      <td>4466</td>\n    </tr>\n    <tr>\n      <th>3</th>\n      <td>250000000</td>\n      <td>[{\"id\": 28, \"name\": \"Action\"}, {\"id\": 80, \"nam...</td>\n      <td>http://www.thedarkknightrises.com/</td>\n      <td>49026</td>\n      <td>[{\"id\": 849, \"name\": \"dc comics\"}, {\"id\": 853,...</td>\n      <td>en</td>\n      <td>The Dark Knight Rises</td>\n      <td>Following the death of District Attorney Harve...</td>\n      <td>112.312950</td>\n      <td>[{\"name\": \"Legendary Pictures\", \"id\": 923}, {\"...</td>\n      <td>[{\"iso_3166_1\": \"US\", \"name\": \"United States o...</td>\n      <td>2012-07-16</td>\n      <td>1084939099</td>\n      <td>165.0</td>\n      <td>[{\"iso_639_1\": \"en\", \"name\": \"English\"}]</td>\n      <td>Released</td>\n      <td>The Legend Ends</td>\n      <td>The Dark Knight Rises</td>\n      <td>7.6</td>\n      <td>9106</td>\n    </tr>\n    <tr>\n      <th>4</th>\n      <td>260000000</td>\n      <td>[{\"id\": 28, \"name\": \"Action\"}, {\"id\": 12, \"nam...</td>\n      <td>http://movies.disney.com/john-carter</td>\n      <td>49529</td>\n      <td>[{\"id\": 818, \"name\": \"based on novel\"}, {\"id\":...</td>\n      <td>en</td>\n      <td>John Carter</td>\n      <td>John Carter is a war-weary, former military ca...</td>\n      <td>43.926995</td>\n      <td>[{\"name\": \"Walt Disney Pictures\", \"id\": 2}]</td>\n      <td>[{\"iso_3166_1\": \"US\", \"name\": \"United States o...</td>\n      <td>2012-03-07</td>\n      <td>284139100</td>\n      <td>132.0</td>\n      <td>[{\"iso_639_1\": \"en\", \"name\": \"English\"}]</td>\n      <td>Released</td>\n      <td>Lost in our world, found in another.</td>\n      <td>John Carter</td>\n      <td>6.1</td>\n      <td>2124</td>\n    </tr>\n  </tbody>\n</table>\n</div>"
     },
     "execution_count": 55,
     "metadata": {},
     "output_type": "execute_result"
    }
   ],
   "source": [
    "import pandas as pd\n",
    "tmdb = pd.read_csv('tmdb_5000_movies.csv')\n",
    "tmdb.head()\n"
   ],
   "metadata": {
    "collapsed": false,
    "pycharm": {
     "name": "#%% aula 03 - variáveis\n"
    }
   }
  },
  {
   "cell_type": "code",
   "execution_count": 56,
   "outputs": [
    {
     "data": {
      "text/plain": "array([11800,  4500,  4466, ...,   587,  1708,  2078])"
     },
     "execution_count": 56,
     "metadata": {},
     "output_type": "execute_result"
    }
   ],
   "source": [
    "tmdb.original_language.unique() #variavel nominal sem categoria\n",
    "\n",
    "tmdb.budget.unique() #variavel quantitativa continua\n",
    "\n",
    "tmdb.vote_count.unique() #variavel quantitativa intervalar"
   ],
   "metadata": {
    "collapsed": false,
    "pycharm": {
     "name": "#%% \n"
    }
   }
  },
  {
   "cell_type": "code",
   "execution_count": 57,
   "outputs": [
    {
     "data": {
      "text/plain": "  original_language  total\n0                en   4505\n1                fr     70\n2                es     32\n3                zh     27\n4                de     27",
      "text/html": "<div>\n<style scoped>\n    .dataframe tbody tr th:only-of-type {\n        vertical-align: middle;\n    }\n\n    .dataframe tbody tr th {\n        vertical-align: top;\n    }\n\n    .dataframe thead th {\n        text-align: right;\n    }\n</style>\n<table border=\"1\" class=\"dataframe\">\n  <thead>\n    <tr style=\"text-align: right;\">\n      <th></th>\n      <th>original_language</th>\n      <th>total</th>\n    </tr>\n  </thead>\n  <tbody>\n    <tr>\n      <th>0</th>\n      <td>en</td>\n      <td>4505</td>\n    </tr>\n    <tr>\n      <th>1</th>\n      <td>fr</td>\n      <td>70</td>\n    </tr>\n    <tr>\n      <th>2</th>\n      <td>es</td>\n      <td>32</td>\n    </tr>\n    <tr>\n      <th>3</th>\n      <td>zh</td>\n      <td>27</td>\n    </tr>\n    <tr>\n      <th>4</th>\n      <td>de</td>\n      <td>27</td>\n    </tr>\n  </tbody>\n</table>\n</div>"
     },
     "execution_count": 57,
     "metadata": {},
     "output_type": "execute_result"
    }
   ],
   "source": [
    "tmdb['original_language'].value_counts()\n",
    "\n",
    "contagem_de_lingua = tmdb['original_language'].value_counts().to_frame().reset_index()\n",
    "contagem_de_lingua.columns = ['original_language', 'total']\n",
    "contagem_de_lingua.head()"
   ],
   "metadata": {
    "collapsed": false,
    "pycharm": {
     "name": "#%% 04. data vizualization\n"
    }
   }
  },
  {
   "cell_type": "code",
   "execution_count": 58,
   "outputs": [
    {
     "data": {
      "text/plain": "<AxesSubplot:xlabel='original_language', ylabel='total'>"
     },
     "execution_count": 58,
     "metadata": {},
     "output_type": "execute_result"
    },
    {
     "data": {
      "text/plain": "<Figure size 432x288 with 1 Axes>",
      "image/png": "[encoded data removed]"
     },
     "metadata": {
      "needs_background": "light"
     },
     "output_type": "display_data"
    }
   ],
   "source": [
    "import seaborn as sns\n",
    "sns.barplot(x='original_language', y='total', data = contagem_de_lingua)\n"
   ],
   "metadata": {
    "collapsed": false,
    "pycharm": {
     "name": "#%% grafico de barras\n"
    }
   }
  },
  {
   "cell_type": "code",
   "execution_count": 59,
   "outputs": [
    {
     "data": {
      "text/plain": "<seaborn.axisgrid.FacetGrid at 0x1250e88b0>"
     },
     "execution_count": 59,
     "metadata": {},
     "output_type": "execute_result"
    },
    {
     "data": {
      "text/plain": "<Figure size 360x360 with 1 Axes>",
      "image/png": "[encoded data removed]"
     },
     "metadata": {
      "needs_background": "light"
     },
     "output_type": "display_data"
    }
   ],
   "source": [
    "sns.catplot(x=\"original_language\", kind=\"count\", data= tmdb)"
   ],
   "metadata": {
    "collapsed": false,
    "pycharm": {
     "name": "#%%\n"
    }
   }
  },
  {
   "cell_type": "code",
   "execution_count": 60,
   "outputs": [
    {
     "data": {
      "text/plain": "([<matplotlib.patches.Wedge at 0x1252372e0>,\n  <matplotlib.patches.Wedge at 0x125237880>,\n  <matplotlib.patches.Wedge at 0x125237d60>,\n  <matplotlib.patches.Wedge at 0x125246280>,\n  <matplotlib.patches.Wedge at 0x125246790>,\n  <matplotlib.patches.Wedge at 0x125246c70>,\n  <matplotlib.patches.Wedge at 0x125251190>,\n  <matplotlib.patches.Wedge at 0x125251670>,\n  <matplotlib.patches.Wedge at 0x125251b50>,\n  <matplotlib.patches.Wedge at 0x125251fd0>,\n  <matplotlib.patches.Wedge at 0x12520ddf0>,\n  <matplotlib.patches.Wedge at 0x125260a00>,\n  <matplotlib.patches.Wedge at 0x125260ee0>,\n  <matplotlib.patches.Wedge at 0x12526b400>,\n  <matplotlib.patches.Wedge at 0x12526b8e0>,\n  <matplotlib.patches.Wedge at 0x12526bdc0>,\n  <matplotlib.patches.Wedge at 0x12527a2e0>,\n  <matplotlib.patches.Wedge at 0x12527a760>,\n  <matplotlib.patches.Wedge at 0x12527ac40>,\n  <matplotlib.patches.Wedge at 0x125289160>,\n  <matplotlib.patches.Wedge at 0x125289640>,\n  <matplotlib.patches.Wedge at 0x125289b20>,\n  <matplotlib.patches.Wedge at 0x125289fd0>,\n  <matplotlib.patches.Wedge at 0x125294520>,\n  <matplotlib.patches.Wedge at 0x125294a00>,\n  <matplotlib.patches.Wedge at 0x125294ee0>,\n  <matplotlib.patches.Wedge at 0x1252a2400>,\n  <matplotlib.patches.Wedge at 0x1252a28e0>,\n  <matplotlib.patches.Wedge at 0x1252a2dc0>,\n  <matplotlib.patches.Wedge at 0x1252af2e0>,\n  <matplotlib.patches.Wedge at 0x1252af6d0>,\n  <matplotlib.patches.Wedge at 0x1252afbb0>,\n  <matplotlib.patches.Wedge at 0x1252bc0d0>,\n  <matplotlib.patches.Wedge at 0x1252bc5b0>,\n  <matplotlib.patches.Wedge at 0x1252bca90>,\n  <matplotlib.patches.Wedge at 0x1252bcf70>,\n  <matplotlib.patches.Wedge at 0x1252cb460>],\n [Text(-1.0791697536499925, 0.2130554923183512, 'en'),\n  Text(1.0355355017029462, -0.37103399401244586, 'fr'),\n  Text(1.0579676486019882, -0.30117180231817847, 'es'),\n  Text(1.0687996606645356, -0.26012936274741094, 'zh'),\n  Text(1.0773191105706255, -0.22222406260195313, 'de'),\n  Text(1.0835167978583342, -0.18971386021801853, 'hi'),\n  Text(1.0875756432724297, -0.16486121484618815, 'ja'),\n  Text(1.0906010773146022, -0.14348968659882624, 'it'),\n  Text(1.092883487371409, -0.12492270822755745, 'cn'),\n  Text(1.0946390911069936, -0.1084677842516155, 'ru'),\n  Text(1.0960865535188649, -0.09270527058984593, 'ko'),\n  Text(1.0972054830031333, -0.07835896928789601, 'pt'),\n  Text(1.097965443340663, -0.06687215586282344, 'da'),\n  Text(1.0984565010300316, -0.05825217030171998, 'sv'),\n  Text(1.0987803851616647, -0.0517847968421653, 'nl'),\n  Text(1.0990363161210686, -0.04603450713357273, 'fa'),\n  Text(1.0992355702663055, -0.04100196411527794, 'th'),\n  Text(1.0993880184234357, -0.03668766750546648, 'he'),\n  Text(1.0995021239019234, -0.03309198596578442, 'ro'),\n  Text(1.099584941078101, -0.03021518416739545, 'cs'),\n  Text(1.0996602312343366, -0.0273381755361505, 'ta'),\n  Text(1.099727993855245, -0.024460979766119193, 'ar'),\n  Text(1.0997882284769684, -0.021583616552649294, 'id'),\n  Text(1.0998284639438185, -0.01942549610642471, 'ps'),\n  Text(1.0998529348820232, -0.01798670707495573, 'pl'),\n  Text(1.0998755236058106, -0.01654788726224571, 'is'),\n  Text(1.0998962300765243, -0.01510903913059323, 'nb'),\n  Text(1.0999150542587282, -0.013670165142345335, 'af'),\n  Text(1.0999319961202083, -0.012231267759896247, 'ky'),\n  Text(1.0999470556319713, -0.010792349445676318, 'vi'),\n  Text(1.099960232768245, -0.00935341266215563, 'te'),\n  Text(1.0999715275064792, -0.007914459871831963, 'sl'),\n  Text(1.0999809398273452, -0.006475493537234394, 'hu'),\n  Text(1.0999884697147349, -0.005036516120911277, 'tr'),\n  Text(1.0999941171557621, -0.003597530085433836, 'el'),\n  Text(1.0999978821407626, -0.0021585378933851127, 'xx'),\n  Text(1.0999997646632929, -0.0007195420073586872, 'no')])"
     },
     "execution_count": 60,
     "metadata": {},
     "output_type": "execute_result"
    },
    {
     "data": {
      "text/plain": "<Figure size 432x288 with 1 Axes>",
      "image/png": "[encoded data removed]"
     },
     "metadata": {},
     "output_type": "display_data"
    }
   ],
   "source": [
    "import matplotlib.pyplot as plt\n",
    "plt.pie(contagem_de_lingua['total'], labels= contagem_de_lingua['original_language'])"
   ],
   "metadata": {
    "collapsed": false,
    "pycharm": {
     "name": "#%% passando mensagem atraves de vizualizacao grafico de pizza\n"
    }
   }
  },
  {
   "cell_type": "code",
   "execution_count": 61,
   "outputs": [
    {
     "name": "stdout",
     "output_type": "stream",
     "text": [
      "4505 298\n"
     ]
    },
    {
     "data": {
      "text/plain": "   lingua  total\n0  ingles   4505\n1  outros    298",
      "text/html": "<div>\n<style scoped>\n    .dataframe tbody tr th:only-of-type {\n        vertical-align: middle;\n    }\n\n    .dataframe tbody tr th {\n        vertical-align: top;\n    }\n\n    .dataframe thead th {\n        text-align: right;\n    }\n</style>\n<table border=\"1\" class=\"dataframe\">\n  <thead>\n    <tr style=\"text-align: right;\">\n      <th></th>\n      <th>lingua</th>\n      <th>total</th>\n    </tr>\n  </thead>\n  <tbody>\n    <tr>\n      <th>0</th>\n      <td>ingles</td>\n      <td>4505</td>\n    </tr>\n    <tr>\n      <th>1</th>\n      <td>outros</td>\n      <td>298</td>\n    </tr>\n  </tbody>\n</table>\n</div>"
     },
     "execution_count": 61,
     "metadata": {},
     "output_type": "execute_result"
    }
   ],
   "source": [
    "import pandas as pd\n",
    "import seaborn as sns\n",
    "total_por_lingua = tmdb['original_language'].value_counts()\n",
    "total_geral = total_por_lingua.sum()\n",
    "total_ingles = total_por_lingua.loc['en']\n",
    "total_do_resto = total_geral - total_ingles\n",
    "print(total_ingles, total_do_resto)\n",
    "\n",
    "dados = {\n",
    "    'lingua' : ['ingles', 'outros'],\n",
    "    'total' : [4505, 298]\n",
    "}\n",
    "\n",
    "dados = pd.DataFrame(dados)\n",
    "dados"
   ],
   "metadata": {
    "collapsed": false,
    "pycharm": {
     "name": "#%% grafico comparando ingles com as outras linguas\n"
    }
   }
  },
  {
   "cell_type": "code",
   "execution_count": 62,
   "outputs": [
    {
     "data": {
      "text/plain": "<AxesSubplot:xlabel='lingua', ylabel='total'>"
     },
     "execution_count": 62,
     "metadata": {},
     "output_type": "execute_result"
    },
    {
     "data": {
      "text/plain": "<Figure size 432x288 with 1 Axes>",
      "image/png": "[encoded data removed]"
     },
     "metadata": {
      "needs_background": "light"
     },
     "output_type": "display_data"
    }
   ],
   "source": [
    "sns.barplot(x='lingua', y='total', data= dados)\n"
   ],
   "metadata": {
    "collapsed": false,
    "pycharm": {
     "name": "#%% grafico de barras\n"
    }
   }
  },
  {
   "cell_type": "code",
   "execution_count": 63,
   "outputs": [
    {
     "data": {
      "text/plain": "([<matplotlib.patches.Wedge at 0x12535adf0>,\n  <matplotlib.patches.Wedge at 0x125368370>],\n [Text(-1.0791697536499925, 0.2130554923183512, 'ingles'),\n  Text(1.0791697511565306, -0.21305550494824674, 'outros')])"
     },
     "execution_count": 63,
     "metadata": {},
     "output_type": "execute_result"
    },
    {
     "data": {
      "text/plain": "<Figure size 432x288 with 1 Axes>",
      "image/png": "[encoded data removed]"
     },
     "metadata": {},
     "output_type": "display_data"
    }
   ],
   "source": [
    "plt.pie(dados['total'], labels= dados['lingua'])"
   ],
   "metadata": {
    "collapsed": false,
    "pycharm": {
     "name": "#%% grafico de pizza\n"
    }
   }
  },
  {
   "cell_type": "code",
   "execution_count": 64,
   "outputs": [
    {
     "ename": "NameError",
     "evalue": "name 'filmes_sem_lingua_original_ingles' is not defined",
     "output_type": "error",
     "traceback": [
      "\u001B[0;31m---------------------------------------------------------------------------\u001B[0m",
      "\u001B[0;31mNameError\u001B[0m                                 Traceback (most recent call last)",
      "\u001B[0;32m<ipython-input-64-0387a6223335>\u001B[0m in \u001B[0;36m<module>\u001B[0;34m\u001B[0m\n\u001B[1;32m      3\u001B[0m sns.catplot(x=\"original_language\",\n\u001B[1;32m      4\u001B[0m             \u001B[0mkind\u001B[0m\u001B[0;34m=\u001B[0m\u001B[0;34m\"count\"\u001B[0m\u001B[0;34m,\u001B[0m\u001B[0;34m\u001B[0m\u001B[0;34m\u001B[0m\u001B[0m\n\u001B[0;32m----> 5\u001B[0;31m             \u001B[0mdata\u001B[0m\u001B[0;34m=\u001B[0m\u001B[0mfilmes_sem_lingua_original_ingles\u001B[0m\u001B[0;34m,\u001B[0m\u001B[0;34m\u001B[0m\u001B[0;34m\u001B[0m\u001B[0m\n\u001B[0m\u001B[1;32m      6\u001B[0m             \u001B[0maspect\u001B[0m\u001B[0;34m=\u001B[0m\u001B[0;36m2\u001B[0m\u001B[0;34m,\u001B[0m\u001B[0;34m\u001B[0m\u001B[0;34m\u001B[0m\u001B[0m\n\u001B[1;32m      7\u001B[0m             \u001B[0morder\u001B[0m\u001B[0;34m=\u001B[0m\u001B[0mtotal_por_lingua_de_outros_filmes\u001B[0m\u001B[0;34m.\u001B[0m\u001B[0mindex\u001B[0m\u001B[0;34m,\u001B[0m\u001B[0;34m\u001B[0m\u001B[0;34m\u001B[0m\u001B[0m\n",
      "\u001B[0;31mNameError\u001B[0m: name 'filmes_sem_lingua_original_ingles' is not defined"
     ]
    }
   ],
   "source": [
    "total_por_lingua_de_outros_filmes = tmdb.query(\"original_language != 'en'\").original_language.value_counts()\n",
    "\n",
    "sns.catplot(x=\"original_language\",\n",
    "            kind=\"count\",\n",
    "            data=filmes_sem_lingua_original_ingles,\n",
    "            aspect=2,\n",
    "            order=total_por_lingua_de_outros_filmes.index,\n",
    "            palette=\"GnBu_d\"\n",
    "            )"
   ],
   "metadata": {
    "collapsed": false,
    "pycharm": {
     "name": "#%% 05. Continuando com vizualizacao refinando catplot\n"
    }
   }
  },
  {
   "cell_type": "code",
   "execution_count": null,
   "outputs": [],
   "source": [
    "filmes.head(2)\n",
    "\n",
    "notas.head()\n",
    "\n",
    "notas_toy_story = notas.query(\"filmeId==1\")\n",
    "notas_jumanji = notas.query(\"filmeId==2\")\n",
    "print(len(notas_jumanji), len(notas_toy_story))"
   ],
   "metadata": {
    "collapsed": false,
    "pycharm": {
     "name": "#%% 06. dados e estatistica\n"
    }
   }
  },
  {
   "cell_type": "code",
   "execution_count": null,
   "outputs": [],
   "source": [
    "print(\"Nota média Toy Story: %.2f\" % notas_toy_story.nota.mean())\n",
    "print(\"Notas do Jumanji % .2f\" % notas_jumanji.nota.mean())"
   ],
   "metadata": {
    "collapsed": false,
    "pycharm": {
     "name": "#%% imprimindo medias\n"
    }
   }
  },
  {
   "cell_type": "code",
   "execution_count": null,
   "outputs": [],
   "source": [
    "print(\"Mediana do Toy Story: %.2f\" % notas_toy_story.nota.median())\n",
    "print(\"Mediana do Jumanji % .2f\" % notas_jumanji.nota.median())"
   ],
   "metadata": {
    "collapsed": false,
    "pycharm": {
     "name": "#%% calculando\n"
    }
   }
  },
  {
   "cell_type": "code",
   "execution_count": 69,
   "outputs": [
    {
     "data": {
      "text/plain": "<AxesSubplot:xlabel='nota'>"
     },
     "execution_count": 69,
     "metadata": {},
     "output_type": "execute_result"
    },
    {
     "data": {
      "text/plain": "<Figure size 432x288 with 1 Axes>",
      "image/png": "[encoded data removed]"
     },
     "metadata": {
      "needs_background": "light"
     },
     "output_type": "display_data"
    }
   ],
   "source": [
    "import numpy as np\n",
    "sns.boxplot(notas_toy_story.nota)"
   ],
   "metadata": {
    "collapsed": false,
    "pycharm": {
     "name": "#%%\n"
    }
   }
  },
  {
   "cell_type": "code",
   "execution_count": 70,
   "outputs": [
    {
     "data": {
      "text/plain": "<AxesSubplot:xlabel='nota'>"
     },
     "execution_count": 70,
     "metadata": {},
     "output_type": "execute_result"
    },
    {
     "data": {
      "text/plain": "<Figure size 432x288 with 1 Axes>",
      "image/png": "[encoded data removed]"
     },
     "metadata": {
      "needs_background": "light"
     },
     "output_type": "display_data"
    }
   ],
   "source": [
    "sns.boxplot(notas_jumanji.nota)"
   ],
   "metadata": {
    "collapsed": false,
    "pycharm": {
     "name": "#%%\n"
    }
   }
  },
  {
   "cell_type": "code",
   "execution_count": 73,
   "outputs": [
    {
     "data": {
      "text/plain": "{'whiskers': [<matplotlib.lines.Line2D at 0x1257ca760>,\n  <matplotlib.lines.Line2D at 0x1257caaf0>,\n  <matplotlib.lines.Line2D at 0x1257d5f70>,\n  <matplotlib.lines.Line2D at 0x1257e0340>],\n 'caps': [<matplotlib.lines.Line2D at 0x1257a94c0>,\n  <matplotlib.lines.Line2D at 0x1257d5130>,\n  <matplotlib.lines.Line2D at 0x1257e06d0>,\n  <matplotlib.lines.Line2D at 0x1257e0a60>],\n 'boxes': [<matplotlib.lines.Line2D at 0x1257ca3d0>,\n  <matplotlib.lines.Line2D at 0x1257d5be0>],\n 'medians': [<matplotlib.lines.Line2D at 0x1257d54c0>,\n  <matplotlib.lines.Line2D at 0x1257e0df0>],\n 'fliers': [<matplotlib.lines.Line2D at 0x1257d5850>,\n  <matplotlib.lines.Line2D at 0x1257eb1c0>],\n 'means': []}"
     },
     "execution_count": 73,
     "metadata": {},
     "output_type": "execute_result"
    },
    {
     "data": {
      "text/plain": "<Figure size 432x288 with 1 Axes>",
      "image/png": "[encoded data removed]"
     },
     "metadata": {
      "needs_background": "light"
     },
     "output_type": "display_data"
    }
   ],
   "source": [
    "plt.boxplot([notas_toy_story.nota, notas_jumanji.nota])"
   ],
   "metadata": {
    "collapsed": false,
    "pycharm": {
     "name": "#%%\n"
    }
   }
  },
  {
   "cell_type": "code",
   "execution_count": 75,
   "outputs": [
    {
     "data": {
      "text/plain": "<AxesSubplot:xlabel='filmeId', ylabel='nota'>"
     },
     "execution_count": 75,
     "metadata": {},
     "output_type": "execute_result"
    },
    {
     "data": {
      "text/plain": "<Figure size 432x288 with 1 Axes>",
      "image/png": "[encoded data removed]"
     },
     "metadata": {
      "needs_background": "light"
     },
     "output_type": "display_data"
    }
   ],
   "source": [
    "sns.boxplot(x=\"filmeId\",\n",
    "            y=\"nota\",\n",
    "            data= notas.query(\"filmeId in [1, 2,3, 4, 5, 6]\"))"
   ],
   "metadata": {
    "collapsed": false,
    "pycharm": {
     "name": "#%%\n"
    }
   }
  },
  {
   "cell_type": "code",
   "execution_count": 76,
   "outputs": [
    {
     "data": {
      "text/plain": "0.8817134921476455"
     },
     "execution_count": 76,
     "metadata": {},
     "output_type": "execute_result"
    }
   ],
   "source": [
    "notas_jumanji.nota.std()"
   ],
   "metadata": {
    "collapsed": false,
    "pycharm": {
     "name": "#%%\n"
    }
   }
  },
  {
   "cell_type": "code",
   "execution_count": null,
   "outputs": [],
   "source": [],
   "metadata": {
    "collapsed": false,
    "pycharm": {
     "name": "#%% revisao final \n"
    }
   }
  }
 ],
 "metadata": {
  "kernelspec": {
   "display_name": "Python 3",
   "language": "python",
   "name": "python3"
  },
  "language_info": {
   "codemirror_mode": {
    "name": "ipython",
    "version": 2
   },
   "file_extension": ".py",
   "mimetype": "text/x-python",
   "name": "python",
   "nbconvert_exporter": "python",
   "pygments_lexer": "ipython2",
   "version": "2.7.6"
  }
 },
 "nbformat": 4,
 "nbformat_minor": 0
}